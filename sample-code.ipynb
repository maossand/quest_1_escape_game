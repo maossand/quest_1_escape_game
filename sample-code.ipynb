{
 "cells": [
  {
   "cell_type": "code",
   "execution_count": 76,
   "metadata": {
    "tags": []
   },
   "outputs": [],
   "source": [
    "# define rooms and items\n",
    "\n",
    "couch = {\n",
    "    \"name\": \"couch\",\n",
    "    \"type\": \"furniture\",\n",
    "}\n",
    "\n",
    "door_a = {\n",
    "    \"name\": \"door a\",\n",
    "    \"type\": \"door\",\n",
    "}\n",
    "\n",
    "key_a = {\n",
    "    \"name\": \"key for door a\",\n",
    "    \"type\": \"key\",\n",
    "    \"target\": door_a,\n",
    "}\n",
    "\n",
    "piano = {\n",
    "    \"name\": \"piano\",\n",
    "    \"type\": \"furniture\",\n",
    "}\n",
    "\n",
    "game_room = {\n",
    "    \"name\": \"game room\",\n",
    "    \"type\": \"room\",\n",
    "}\n",
    "\n",
    "outside = {\n",
    "  \"name\": \"outside\"\n",
    "}\n",
    "\n",
    "#Create new rooms and objects for Bedroom 1\n",
    "\n",
    "bedroom1 = {\"name\":\"bedroom1\",\"type\":\"room\"}\n",
    "\n",
    "queen_bed = {\"name\":\"queen bed\", \"type\":\"furniture\"}\n",
    "\n",
    "door_b = {\"name\":\"door b\", \"type\":\"door\"}\n",
    "\n",
    "key_b = {\"name\":\"key for door b\", \"type\":\"key\",\"target\": door_b}\n",
    "\n",
    "door_c = {\"name\":\"door c\", \"type\":\"door\"}\n",
    "\n",
    "#Create new rooms and objects for Bedroom 2\n",
    "\n",
    "bedroom2 = {\"name\":\"bedroom2\",\"type\":\"room\"}\n",
    "\n",
    "double_bed = {\"name\":\"double bed\", \"type\":\"furniture\"}\n",
    "\n",
    "dresser = {\"name\":\"dresser\", \"type\":\"furniture\"}\n",
    "\n",
    "key_c = {\"name\":\"key c\", \"type\":\"key\", \"target\": door_c}\n",
    "\n",
    "door_d = {\"name\":\"door d\", \"type\":\"door\"}\n",
    "\n",
    "key_d = {\"name\":\"key d\", \"type\":\"key\", \"target\": door_d}\n",
    "\n",
    "#Create new rooms and objects for Living Room\n",
    "\n",
    "living_room = {\"name\":\"living room\",\"type\":\"room\"}\n",
    "\n",
    "dining_table = {\"name\":\"dining table\", \"type\":\"furniture\"}\n",
    "\n",
    "\n",
    "#All items\n",
    "\n",
    "all_rooms = [game_room, bedroom1, bedroom2, living_room, outside]\n",
    "\n",
    "all_doors = [door_a, door_b, door_c, door_d]\n",
    "\n",
    "# define which items/rooms are related\n",
    "#updated\n",
    "\n",
    "object_relations = {\n",
    "    \"game room\": [couch, piano, door_a],\n",
    "    \"piano\": [key_a],\n",
    "    \"outside\": [door_d],\n",
    "    \"door a\": [game_room, bedroom1],\n",
    "    \"bedroom1\": [queen_bed, door_b, door_c, door_a],\n",
    "    \"queen bed\": [key_b],\n",
    "    \"bedroom2\": [double_bed, dresser, door_b],\n",
    "    \"double bed\": [key_c],\n",
    "    \"dresser\": [key_d],\n",
    "    \"living room\": [dining_table, door_c, door_d],\n",
    "    \"door b\": [bedroom1, bedroom2],\n",
    "    \"door c\": [bedroom1, living_room],\n",
    "    \"door d\": [outside]\n",
    "}\n",
    "\n",
    "# define game state. Do not directly change this dict. \n",
    "# Instead, when a new game starts, make a copy of this\n",
    "# dict and use the copy to store gameplay state. This \n",
    "# way you can replay the game multiple times.\n",
    "\n",
    "INIT_GAME_STATE = {\n",
    "    \"current_room\": game_room,\n",
    "    \"keys_collected\": [],\n",
    "    \"target_room\": outside,\n",
    "    \"rooms_visited\": [\"game room\"]\n",
    "}"
   ]
  },
  {
   "cell_type": "code",
   "execution_count": 77,
   "metadata": {
    "tags": []
   },
   "outputs": [
    {
     "data": {
      "text/plain": [
       "'item1-item2'"
      ]
     },
     "execution_count": 77,
     "metadata": {},
     "output_type": "execute_result"
    }
   ],
   "source": [
    "\"-\".join([\"item1\",\"item2\"])"
   ]
  },
  {
   "cell_type": "code",
   "execution_count": 78,
   "metadata": {
    "tags": []
   },
   "outputs": [],
   "source": [
    "def linebreak():\n",
    "    \"\"\"\n",
    "    Print a line break\n",
    "    \"\"\"\n",
    "    print(\"\\n\\n\")\n",
    "\n",
    "def start_game():\n",
    "    \"\"\"\n",
    "    Start the game\n",
    "    \"\"\"\n",
    "    print(\"You wake up on a couch and find yourself in a strange house with no windows which you have never been to before. You don't remember why you are here and what had happened before. You feel some unknown danger is approaching and you must get out of the house, NOW!\")\n",
    "    play_room(game_state[\"current_room\"])\n",
    "\n",
    "def play_room(room):\n",
    "    \"\"\"\n",
    "    Play a room. First check if the room being played is the target room.\n",
    "    If it is, the game will end with success. Otherwise, let player either \n",
    "    explore (list all items in this room) or examine an item found here.\n",
    "    \"\"\"\n",
    "    game_state[\"current_room\"] = room\n",
    "    \n",
    "    if(game_state[\"current_room\"] == game_state[\"target_room\"]):\n",
    "        print(\"Congrats! You escaped the room!\")\n",
    "    else:\n",
    "        print(\"You are now in \" + room[\"name\"])\n",
    "        if room[\"name\"] not in game_state[\"rooms_visited\"]:\n",
    "            game_state[\"rooms_visited\"].append(room[\"name\"])\n",
    "        items = [i[\"name\"] for i in object_relations[room[\"name\"]]]\n",
    "        print(\"You see a \" + \", a \".join(items),\".\")\n",
    "        print()\n",
    "        print(\"You have visited rooms: \" +  \", \".join( game_state[\"rooms_visited\"] ))\n",
    "        action = input(\"What do you want to do? (examine or teleport)\")\n",
    "        if action == \"teleport\":\n",
    "            where = input(\"To which room would you like to teleport\")\n",
    "            if where in game_state[\"rooms_visited\"]:\n",
    "                \n",
    "                for r in all_rooms:\n",
    "                    if where == r[\"name\"]:\n",
    "                        play_room(r)\n",
    "            \n",
    "            else:\n",
    "                print(\"You dont have the energy to teleport THERE!\")\n",
    "                \n",
    "        \n",
    "        examine_item(input(\"Which of the items would you like to examine?\").strip())\n",
    "    linebreak()\n",
    "\n",
    "def get_next_room_of_door(door, current_room):\n",
    "    \"\"\"\n",
    "    From object_relations, find the two rooms connected to the given door.\n",
    "    Return the room that is not the current_room.\n",
    "    \"\"\"\n",
    "    connected_rooms = object_relations[door[\"name\"]]\n",
    "    for room in connected_rooms:\n",
    "        if(not current_room == room):\n",
    "            return room\n",
    "\n",
    "def examine_item(item_name):\n",
    "    \"\"\"\n",
    "    Examine an item which can be a door or furniture.\n",
    "    First make sure the intended item belongs to the current room.\n",
    "    Then check if the item is a door. Tell player if key hasn't been \n",
    "    collected yet. Otherwise ask player if they want to go to the next\n",
    "    room. If the item is not a door, then check if it contains keys.\n",
    "    Collect the key if found and update the game state. At the end,\n",
    "    play either the current or the next room depending on the game state\n",
    "    to keep playing.\n",
    "    \"\"\"\n",
    "    current_room = game_state[\"current_room\"]\n",
    "    next_room = \"\"\n",
    "    output = None\n",
    "    \n",
    "    for item in object_relations[current_room[\"name\"]]:\n",
    "        if(item[\"name\"] == item_name):\n",
    "            \n",
    "            output = \"You examine \" + item_name + \". \"\n",
    "            if(item[\"type\"] == \"door\"):\n",
    "                have_key = False\n",
    "                for key in game_state[\"keys_collected\"]:\n",
    "                    if(key[\"target\"] == item):\n",
    "                        have_key = True\n",
    "                if(have_key):\n",
    "                    output += \"You unlock it with a key you have.\"\n",
    "                    next_room = get_next_room_of_door(item, current_room)\n",
    "                else:\n",
    "                    output += \"It is locked but you don't have the key.\"\n",
    "            else:\n",
    "                if(item[\"name\"] in object_relations and len(object_relations[item[\"name\"]])>0):\n",
    "                    item_found = object_relations[item[\"name\"]].pop()\n",
    "                    game_state[\"keys_collected\"].append(item_found)\n",
    "                    output += \"You find \" + item_found[\"name\"] + \".\"\n",
    "                else:\n",
    "                    output += \"There isn't anything interesting about it.\"\n",
    "            print(output)\n",
    "            break\n",
    "\n",
    "    if(output is None):\n",
    "        print(\"The item you requested is not found in the current room.\")\n",
    "    \n",
    "    if(next_room and input(\"Do you want to go to the next room? Enter 'yes' or 'no'\").strip() == 'yes'):\n",
    "        play_room(next_room)\n",
    "    else:\n",
    "        play_room(current_room)"
   ]
  },
  {
   "cell_type": "code",
   "execution_count": null,
   "metadata": {
    "tags": []
   },
   "outputs": [
    {
     "name": "stdout",
     "output_type": "stream",
     "text": [
      "You wake up on a couch and find yourself in a strange house with no windows which you have never been to before. You don't remember why you are here and what had happened before. You feel some unknown danger is approaching and you must get out of the house, NOW!\n",
      "You are now in game room\n",
      "You see a couch, a piano, a door a .\n",
      "\n",
      "You have visited rooms: game room\n"
     ]
    },
    {
     "name": "stdin",
     "output_type": "stream",
     "text": [
      "What do you want to do? (examine or teleport) teleport\n",
      "To which room would you like to teleport bedroom 1\n"
     ]
    },
    {
     "name": "stdout",
     "output_type": "stream",
     "text": [
      "You dont have the energy to teleport THERE!\n"
     ]
    },
    {
     "name": "stdin",
     "output_type": "stream",
     "text": [
      "Which of the items would you like to examine? examine\n"
     ]
    },
    {
     "name": "stdout",
     "output_type": "stream",
     "text": [
      "The item you requested is not found in the current room.\n",
      "You are now in game room\n",
      "You see a couch, a piano, a door a .\n",
      "\n",
      "You have visited rooms: game room\n"
     ]
    },
    {
     "name": "stdin",
     "output_type": "stream",
     "text": [
      "What do you want to do? (examine or teleport) examine\n",
      "Which of the items would you like to examine? piano\n"
     ]
    },
    {
     "name": "stdout",
     "output_type": "stream",
     "text": [
      "You examine piano. You find key for door a.\n",
      "You are now in game room\n",
      "You see a couch, a piano, a door a .\n",
      "\n",
      "You have visited rooms: game room\n"
     ]
    },
    {
     "name": "stdin",
     "output_type": "stream",
     "text": [
      "What do you want to do? (examine or teleport) examine\n",
      "Which of the items would you like to examine? door a\n"
     ]
    },
    {
     "name": "stdout",
     "output_type": "stream",
     "text": [
      "You examine door a. You unlock it with a key you have.\n"
     ]
    },
    {
     "name": "stdin",
     "output_type": "stream",
     "text": [
      "Do you want to go to the next room? Enter 'yes' or 'no' yes\n"
     ]
    },
    {
     "name": "stdout",
     "output_type": "stream",
     "text": [
      "You are now in bedroom1\n",
      "You see a queen bed, a door b, a door c, a door a .\n",
      "\n",
      "You have visited rooms: game room, bedroom1\n"
     ]
    },
    {
     "name": "stdin",
     "output_type": "stream",
     "text": [
      "What do you want to do? (examine or teleport) examine\n",
      "Which of the items would you like to examine? queen bed\n"
     ]
    },
    {
     "name": "stdout",
     "output_type": "stream",
     "text": [
      "You examine queen bed. You find key for door b.\n",
      "You are now in bedroom1\n",
      "You see a queen bed, a door b, a door c, a door a .\n",
      "\n",
      "You have visited rooms: game room, bedroom1\n"
     ]
    },
    {
     "name": "stdin",
     "output_type": "stream",
     "text": [
      "What do you want to do? (examine or teleport) examine\n",
      "Which of the items would you like to examine? door b\n"
     ]
    },
    {
     "name": "stdout",
     "output_type": "stream",
     "text": [
      "You examine door b. You unlock it with a key you have.\n"
     ]
    },
    {
     "name": "stdin",
     "output_type": "stream",
     "text": [
      "Do you want to go to the next room? Enter 'yes' or 'no' yes\n"
     ]
    },
    {
     "name": "stdout",
     "output_type": "stream",
     "text": [
      "You are now in bedroom2\n",
      "You see a double bed, a dresser, a door b .\n",
      "\n",
      "You have visited rooms: game room, bedroom1, bedroom2\n"
     ]
    },
    {
     "name": "stdin",
     "output_type": "stream",
     "text": [
      "What do you want to do? (examine or teleport) examine\n",
      "Which of the items would you like to examine? dresser\n"
     ]
    },
    {
     "name": "stdout",
     "output_type": "stream",
     "text": [
      "You examine dresser. You find key d.\n",
      "You are now in bedroom2\n",
      "You see a double bed, a dresser, a door b .\n",
      "\n",
      "You have visited rooms: game room, bedroom1, bedroom2\n"
     ]
    },
    {
     "name": "stdin",
     "output_type": "stream",
     "text": [
      "What do you want to do? (examine or teleport) teleport\n",
      "To which room would you like to teleport game room\n"
     ]
    },
    {
     "name": "stdout",
     "output_type": "stream",
     "text": [
      "You are now in game room\n",
      "You see a couch, a piano, a door a .\n",
      "\n",
      "You have visited rooms: game room, bedroom1, bedroom2\n"
     ]
    },
    {
     "name": "stdin",
     "output_type": "stream",
     "text": [
      "What do you want to do? (examine or teleport) teleport\n",
      "To which room would you like to teleport bedroom1\n"
     ]
    },
    {
     "name": "stdout",
     "output_type": "stream",
     "text": [
      "You are now in bedroom1\n",
      "You see a queen bed, a door b, a door c, a door a .\n",
      "\n",
      "You have visited rooms: game room, bedroom1, bedroom2\n"
     ]
    },
    {
     "name": "stdin",
     "output_type": "stream",
     "text": [
      "What do you want to do? (examine or teleport) teleport\n",
      "To which room would you like to teleport bedroom2\n"
     ]
    },
    {
     "name": "stdout",
     "output_type": "stream",
     "text": [
      "You are now in bedroom2\n",
      "You see a double bed, a dresser, a door b .\n",
      "\n",
      "You have visited rooms: game room, bedroom1, bedroom2\n"
     ]
    },
    {
     "name": "stdin",
     "output_type": "stream",
     "text": [
      "What do you want to do? (examine or teleport) examine\n",
      "Which of the items would you like to examine? double bed\n"
     ]
    },
    {
     "name": "stdout",
     "output_type": "stream",
     "text": [
      "You examine double bed. You find key c.\n",
      "You are now in bedroom2\n",
      "You see a double bed, a dresser, a door b .\n",
      "\n",
      "You have visited rooms: game room, bedroom1, bedroom2\n"
     ]
    },
    {
     "name": "stdin",
     "output_type": "stream",
     "text": [
      "What do you want to do? (examine or teleport) teleport\n",
      "To which room would you like to teleport bedroom1\n"
     ]
    },
    {
     "name": "stdout",
     "output_type": "stream",
     "text": [
      "You are now in bedroom1\n",
      "You see a queen bed, a door b, a door c, a door a .\n",
      "\n",
      "You have visited rooms: game room, bedroom1, bedroom2\n"
     ]
    },
    {
     "name": "stdin",
     "output_type": "stream",
     "text": [
      "What do you want to do? (examine or teleport) examine\n",
      "Which of the items would you like to examine? door c\n"
     ]
    },
    {
     "name": "stdout",
     "output_type": "stream",
     "text": [
      "You examine door c. You unlock it with a key you have.\n"
     ]
    },
    {
     "name": "stdin",
     "output_type": "stream",
     "text": [
      "Do you want to go to the next room? Enter 'yes' or 'no' yes\n"
     ]
    },
    {
     "name": "stdout",
     "output_type": "stream",
     "text": [
      "You are now in living room\n",
      "You see a dining table, a door c, a door d .\n",
      "\n",
      "You have visited rooms: game room, bedroom1, bedroom2, living room\n"
     ]
    },
    {
     "name": "stdin",
     "output_type": "stream",
     "text": [
      "What do you want to do? (examine or teleport) examine\n",
      "Which of the items would you like to examine? dining table\n"
     ]
    },
    {
     "name": "stdout",
     "output_type": "stream",
     "text": [
      "You examine dining table. There isn't anything interesting about it.\n",
      "You are now in living room\n",
      "You see a dining table, a door c, a door d .\n",
      "\n",
      "You have visited rooms: game room, bedroom1, bedroom2, living room\n"
     ]
    },
    {
     "name": "stdin",
     "output_type": "stream",
     "text": [
      "What do you want to do? (examine or teleport) examine\n",
      "Which of the items would you like to examine? space\n"
     ]
    },
    {
     "name": "stdout",
     "output_type": "stream",
     "text": [
      "The item you requested is not found in the current room.\n",
      "You are now in living room\n",
      "You see a dining table, a door c, a door d .\n",
      "\n",
      "You have visited rooms: game room, bedroom1, bedroom2, living room\n"
     ]
    },
    {
     "name": "stdin",
     "output_type": "stream",
     "text": [
      "What do you want to do? (examine or teleport) examine\n",
      "Which of the items would you like to examine? door d\n"
     ]
    },
    {
     "name": "stdout",
     "output_type": "stream",
     "text": [
      "You examine door d. You unlock it with a key you have.\n"
     ]
    },
    {
     "name": "stdin",
     "output_type": "stream",
     "text": [
      "Do you want to go to the next room? Enter 'yes' or 'no' yes\n"
     ]
    },
    {
     "name": "stdout",
     "output_type": "stream",
     "text": [
      "Congrats! You escaped the room!\n",
      "\n",
      "\n",
      "\n",
      "\n",
      "\n",
      "\n",
      "\n",
      "\n",
      "\n",
      "\n",
      "\n",
      "\n",
      "\n",
      "\n",
      "\n"
     ]
    }
   ],
   "source": [
    "game_state = INIT_GAME_STATE.copy()\n",
    "\n",
    "start_game()"
   ]
  },
  {
   "cell_type": "code",
   "execution_count": null,
   "metadata": {},
   "outputs": [],
   "source": []
  },
  {
   "cell_type": "code",
   "execution_count": null,
   "metadata": {},
   "outputs": [],
   "source": []
  }
 ],
 "metadata": {
  "kernelspec": {
   "display_name": "Python 3 (ipykernel)",
   "language": "python",
   "name": "python3"
  },
  "language_info": {
   "codemirror_mode": {
    "name": "ipython",
    "version": 3
   },
   "file_extension": ".py",
   "mimetype": "text/x-python",
   "name": "python",
   "nbconvert_exporter": "python",
   "pygments_lexer": "ipython3",
   "version": "3.11.5"
  }
 },
 "nbformat": 4,
 "nbformat_minor": 4
}
